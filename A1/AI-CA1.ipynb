{
 "cells": [
  {
   "cell_type": "markdown",
   "metadata": {},
   "source": [
    "# Armita Bahrudi - 810100591"
   ]
  },
  {
   "cell_type": "markdown",
   "metadata": {},
   "source": [
    "Artificial Intelligence - CA#01: *Genetics* - fall 1402 \\\n",
    "In this notebook, we will implement a genetic algorithm to solve curve fitting optimization problem."
   ]
  },
  {
   "cell_type": "markdown",
   "metadata": {},
   "source": [
    "## Genetic Algorithm introduction"
   ]
  },
  {
   "cell_type": "markdown",
   "metadata": {},
   "source": [
    "genetic algorithm is a method for solving optimization problems that based on the process that drives biological evolution. \\\n",
    "in the following steps, this method is used to fit a polynomial function to the given points.\n"
   ]
  },
  {
   "cell_type": "code",
   "execution_count": 21,
   "metadata": {},
   "outputs": [],
   "source": [
    "import random"
   ]
  },
  {
   "cell_type": "markdown",
   "metadata": {},
   "source": [
    "### Parameters\n"
   ]
  },
  {
   "cell_type": "code",
   "execution_count": 22,
   "metadata": {},
   "outputs": [],
   "source": [
    "population_size = 250\n",
    "num_of_gens = 100\n",
    "mutation_rate = 0.1\n",
    "cross_over_rate = 0.8\n",
    "perfect_result = 1.0"
   ]
  },
  {
   "cell_type": "markdown",
   "metadata": {},
   "source": [
    "## Take Input"
   ]
  },
  {
   "cell_type": "code",
   "execution_count": 23,
   "metadata": {},
   "outputs": [],
   "source": [
    "degree = int(input())\n",
    "coef_range = (int(input()), int(input()))\n",
    "target_points_number = 0\n",
    "target_points = []\n",
    "while True:\n",
    "    x, y = input(), input()\n",
    "    if x == \"\" or y == \"\":\n",
    "        break\n",
    "    new_point = (int(x), int(y))\n",
    "    target_points.append(new_point)\n",
    "    target_points_number += 1"
   ]
  },
  {
   "cell_type": "markdown",
   "metadata": {},
   "source": [
    "## Population Initialization"
   ]
  },
  {
   "cell_type": "markdown",
   "metadata": {},
   "source": [
    "In this section, we will generate a number of chromosomes (set of coefficients) randomly to be our initial population."
   ]
  },
  {
   "cell_type": "code",
   "execution_count": 24,
   "metadata": {},
   "outputs": [],
   "source": [
    "def initialize_pop():\n",
    "    return [random.sample(range( coef_range[0], coef_range[1] + 1) , degree + 1 ) for _ in range(population_size)]"
   ]
  },
  {
   "cell_type": "markdown",
   "metadata": {},
   "source": [
    "## Check Fitness"
   ]
  },
  {
   "cell_type": "markdown",
   "metadata": {},
   "source": [
    "In this section, we define a ```check_fitness()``` function that shows us the degree of desirability of each chromosome. \\\n",
    "The fitness of the chromosome is calculated using the following formula:\n",
    "$$ fitness =  1  /  (1 + (\\sum_{i=1}^{target\\_points\\_number} (|f(x_{i}) - y_{i}|))/ target\\_points\\_number) $$\n",
    "$f(x)$ used in the formula is a polynomial with the coefficients of each chromosome, and $x_{i}$ , $y_{i}$ are the coordinates of a point in target_points.\\\n",
    "closer fitness value to 1 is better for us. we average the difference of answer and points so the fitness does not get usually too close to zero and we do not lose the calculations accuracy.\n"
   ]
  },
  {
   "cell_type": "code",
   "execution_count": 25,
   "metadata": {},
   "outputs": [],
   "source": [
    "def check_fitness(chromosome):\n",
    "    error = 0\n",
    "    for x, y in target_points:\n",
    "        f_x = 0\n",
    "        for i in range(degree + 1):\n",
    "            f_x += ( x ** i ) * chromosome[i]\n",
    "        error += abs(f_x - y)\n",
    "    fitness = 1/(1 + (error / target_points_number))\n",
    "    return fitness"
   ]
  },
  {
   "cell_type": "markdown",
   "metadata": {},
   "source": [
    "## Selection"
   ]
  },
  {
   "cell_type": "markdown",
   "metadata": {},
   "source": [
    "In this section, we use ```roulette method``` (one of stochastic selection method in GA) to select the chromosomes that are supposed to remain. \\\n",
    "The following figure contains the random number generated using Uniform(0, 1). Important to note that number of chromosomes selected for cross-over is controlled by the cross-over rate (Pc) where the minimum is 0 and the maximum is 1.\n",
    "For instance, we determine Pc = 0.25. It means that the chromosomes where the random number is less than 0.25 will be the parents in the cross-over. "
   ]
  },
  {
   "cell_type": "code",
   "execution_count": 26,
   "metadata": {},
   "outputs": [],
   "source": [
    "def selection(chromosomes, total, ch_fitnesses):\n",
    "    cumulative_probability = calculate_cumulative_p(total, ch_fitnesses)\n",
    "    return chose_new_chromosomes(chromosomes, cumulative_probability)\n",
    "\n",
    "def calculate_cumulative_p(total, ch_fitnesses):\n",
    "    cumulative_probability = []\n",
    "    p_sum = 0 \n",
    "    for f in ch_fitnesses:\n",
    "        p = f / total\n",
    "        cumulative_probability.append(p_sum + p)\n",
    "        p_sum += p\n",
    "    return cumulative_probability\n",
    "\n",
    "def chose_new_chromosomes(chromosomes, cumulative_probability):\n",
    "    new_chromosomes = []\n",
    "    for _ in chromosomes:\n",
    "       chose_parameter = random.uniform(0,1)\n",
    "       for i in range(0, population_size):\n",
    "           if chose_parameter <= cumulative_probability[i]:\n",
    "               new_chromosomes.append(chromosomes[i])\n",
    "               break\n",
    "    return new_chromosomes\n"
   ]
  },
  {
   "cell_type": "markdown",
   "metadata": {},
   "source": [
    "## Crossover"
   ]
  },
  {
   "cell_type": "markdown",
   "metadata": {},
   "source": [
    "In this step, we apply ```uniform single-point``` crossover. the single-point crossover means that the genes in two parents are swapped with one crossover line\\\n",
    "we also used two other methods for cross over:\n",
    "* cross over with ``tournament selection`` and rate = 1 -> its rate was not flexible.\n",
    "* cross over with ``all possible pairs`` from the selected set with rate 0.25 -> population increase very fast after generations."
   ]
  },
  {
   "cell_type": "code",
   "execution_count": 27,
   "metadata": {},
   "outputs": [],
   "source": [
    "def cross_over(chromosomes):\n",
    "    if degree > 0:\n",
    "        random.shuffle(chromosomes)\n",
    "        for i in range(0, len(chromosomes), 2):\n",
    "            if does_it_cross_over():\n",
    "                line_ind = random.randint(1, degree)\n",
    "                ch1 = chromosomes[i][0 : line_ind] + chromosomes[i + 1][line_ind : degree + 1]\n",
    "                ch2 = chromosomes[i + 1][0 : line_ind] + chromosomes[i][line_ind : degree + 1]\n",
    "                chromosomes[i] = ch1\n",
    "                chromosomes[i + 1] = ch2\n",
    "            \n",
    "def does_it_cross_over():\n",
    "    return random.uniform(0,1) <= cross_over_rate"
   ]
  },
  {
   "cell_type": "markdown",
   "metadata": {},
   "source": [
    "Mutation is a process in which we assign new values to any genes. In this case, we use ``random mutation``. The number of genes that have mutations is determined by the mutation rate ``mutation_rate`` ($𝑃_{𝑚}$)"
   ]
  },
  {
   "cell_type": "markdown",
   "metadata": {},
   "source": [
    "## Mutation"
   ]
  },
  {
   "cell_type": "code",
   "execution_count": 28,
   "metadata": {},
   "outputs": [],
   "source": [
    "def mutation(chromosomes):\n",
    "    for ch in chromosomes:\n",
    "        if does_it_mutate():\n",
    "            gen_ind = random.randint(0, degree)\n",
    "            new_gen = random.randint(coef_range[0], coef_range[1])\n",
    "            ch[gen_ind] = new_gen\n",
    "\n",
    "def does_it_mutate():\n",
    "    return random.uniform(0, 1) <= mutation_rate"
   ]
  },
  {
   "cell_type": "markdown",
   "metadata": {},
   "source": [
    "## Evaluation"
   ]
  },
  {
   "cell_type": "markdown",
   "metadata": {},
   "source": [
    "The process is repeated until we reached ``num_of_gens`` or find ``perfect result`` , then we print the chromosome with best fitness we ``ever seen`` as a result."
   ]
  },
  {
   "cell_type": "code",
   "execution_count": 29,
   "metadata": {},
   "outputs": [],
   "source": [
    "def evaluation(gen_num, chromosomes, best_fitness, best_chromosome):\n",
    "    total, ch_fitnesses, new_best_fitness, new_best_chromosome = calculate_chs_fitness(chromosomes, best_fitness, best_chromosome)\n",
    "    if(gen_num >= num_of_gens or best_fitness == perfect_result):\n",
    "        print_result(best_chromosome)\n",
    "        return False ,total, ch_fitnesses, new_best_fitness, new_best_chromosome\n",
    "    else:\n",
    "        return True, total, ch_fitnesses, new_best_fitness, new_best_chromosome\n",
    "\n",
    "def calculate_chs_fitness(chromosomes, best_fitness, best_chromosome):\n",
    "    total = 0\n",
    "    ch_fitnesses = []\n",
    "    new_best_fitness = best_fitness\n",
    "    new_best_chromosome = best_chromosome\n",
    "    for ch in chromosomes:\n",
    "        fitness = check_fitness(ch)\n",
    "        total += fitness\n",
    "        ch_fitnesses.append(fitness)\n",
    "        if fitness >= best_fitness:\n",
    "            new_best_fitness = fitness\n",
    "            new_best_chromosome = ch.copy()\n",
    "    return total, ch_fitnesses, new_best_fitness, new_best_chromosome\n",
    "\n",
    "def print_result(best_chromosome):\n",
    "    result = \"\"\n",
    "    for i in range(degree, -1, -1):\n",
    "        if i == 0:\n",
    "            result += str(best_chromosome[i])\n",
    "        else:\n",
    "            result += str(best_chromosome[i]) + \" X^\" + str(i) + \" + \"\n",
    "    print(result)"
   ]
  },
  {
   "cell_type": "markdown",
   "metadata": {},
   "source": [
    "## Main loop of GA"
   ]
  },
  {
   "cell_type": "code",
   "execution_count": 30,
   "metadata": {},
   "outputs": [
    {
     "name": "stdout",
     "output_type": "stream",
     "text": [
      "1 X^2 + 2 X^1 + 1\n"
     ]
    }
   ],
   "source": [
    "chromosomes = initialize_pop()\n",
    "gen_num = 0\n",
    "do_continue = True\n",
    "best_chromosome = []\n",
    "best_fitness = 0\n",
    "while( do_continue ):\n",
    "    do_continue , total_fit, ch_fitnesses, best_fitness, best_chromosome = evaluation(gen_num, chromosomes, best_fitness, best_chromosome)\n",
    "    if( do_continue == False):\n",
    "        break\n",
    "    chromosomes = selection(chromosomes, total_fit, ch_fitnesses)\n",
    "    cross_over(chromosomes)\n",
    "    mutation(chromosomes)\n",
    "    gen_num += 1\n"
   ]
  },
  {
   "cell_type": "markdown",
   "metadata": {},
   "source": [
    "## Questions"
   ]
  },
  {
   "cell_type": "markdown",
   "metadata": {},
   "source": [
    "### 1. How can very large or very small population make problem?\n",
    "If the population is very large, the program will slow down, and in the selection step, the effect that the correctness of answer can have on its selection will be diminished. On a very small set, on average, we have to do many more searches to find the answer."
   ]
  },
  {
   "cell_type": "markdown",
   "metadata": {},
   "source": [
    "### 2. If the number of population increases in each period, what effect does it have on the accuracy and speed of the algorithm?\n",
    "The amount of memory used increases, but the speed decreases. At the same time, this issue means testing more fitnesses and the possibility of finding a more optimal answer, but keeping the chromosomes that do not have enough accuracy means creating problems in convergence to the answer."
   ]
  },
  {
   "cell_type": "markdown",
   "metadata": {},
   "source": [
    "### 3. compare crossover and mutation? Is it possible to use only one of them?\n",
    "In crossover we combine possible answers. But in mutation, we create completely new answers. Crossover operations for chromosomes that have passed the selection barrier are generally more reasonable than replacing them completely. Because the hope is to inherit the characteristics of both parents, but to create a chromosome that has a completely new desirable characteristic that has not been observed in previous chromosomes, mutation is definitely a faster method.\n"
   ]
  },
  {
   "cell_type": "markdown",
   "metadata": {},
   "source": [
    "### 4. In your opinion, what solutions are there to get the answer to this particular problem faster?\n",
    "The algorithm ``parameters`` are the most important factor they should be set carefully. \\\n",
    "then the ``fitness function`` is important And finally, optimizing the methods used for ``mutation`` and ``crossover``."
   ]
  },
  {
   "cell_type": "markdown",
   "metadata": {},
   "source": [
    "### 5. Despite the use of these methods, it is still possible that the chromosomes change after a few more steps don't do Explain the reason for this and the problems it causes. What do you suggest to solve it?\n",
    "In some cases, we get involved in local maxima. In these times, mutation with new changes in chromosomes can cause us to get out of this state. Can we increase the mutation rate or start the algorithm all over again."
   ]
  },
  {
   "cell_type": "markdown",
   "metadata": {},
   "source": [
    "### 6. How to stop the algorithm if there exists no solution?\n",
    "Before starting, check the conditions that cause this issue (for example, two cases with the same x and different y) or start the algorithm all over again (multi-start) in case of not finding a solution in specific number of generations. After that we can assume that probably there is no solution."
   ]
  },
  {
   "cell_type": "markdown",
   "metadata": {},
   "source": [
    "### 7. As the degree of polynomials increases, how does the time to find coefficients change?\n",
    "Increasing the degree of polynomial means increasing the number of genes in each chromosome. Increasing it slows down the program. Our code is of order n in most areas."
   ]
  },
  {
   "cell_type": "markdown",
   "metadata": {},
   "source": [
    "### 8. In your opinion, how does increasing or decreasing the number of points affect the implementation of the algorithm?\n",
    "By increasing the number of points, we draw the curve more clearly, which makes it less likely to be involved in localization maxima and also guides us towards a ``unique`` solution."
   ]
  }
 ],
 "metadata": {
  "kernelspec": {
   "display_name": "Python 3",
   "language": "python",
   "name": "python3"
  },
  "language_info": {
   "codemirror_mode": {
    "name": "ipython",
    "version": 3
   },
   "file_extension": ".py",
   "mimetype": "text/x-python",
   "name": "python",
   "nbconvert_exporter": "python",
   "pygments_lexer": "ipython3",
   "version": "3.10.11"
  }
 },
 "nbformat": 4,
 "nbformat_minor": 2
}
